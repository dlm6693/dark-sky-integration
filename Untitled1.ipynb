{
 "cells": [
  {
   "cell_type": "code",
   "execution_count": 1,
   "metadata": {},
   "outputs": [],
   "source": [
    "from dark_sky_app.dark_sky_app import settings\n",
    "from sqlalchemy import create_engine\n",
    "import pandas as pd\n",
    "from process import DataProcessor, data\n",
    "user = settings.DATABASES['default']['USER']\n",
    "password = settings.DATABASES['default']['PASSWORD']\n",
    "database_name = settings.DATABASES['default']['NAME']\n",
    "host = settings.DATABASES['default']['HOST']\n",
    "port = settings.DATABASES['default']['PORT']\n",
    "\n",
    "database_url = f'postgresql+psycopg2://{user}:{password}@{host}:{port}/{database_name}'\n",
    "engine = create_engine(database_url, echo=False)"
   ]
  },
  {
   "cell_type": "code",
   "execution_count": 2,
   "metadata": {},
   "outputs": [
    {
     "name": "stderr",
     "output_type": "stream",
     "text": [
      "C:\\Users\\dlm66\\OneDrive\\Projects\\dark-sky-integration\\process.py:112: FutureWarning: Sorting because non-concatenation axis is not aligned. A future version\n",
      "of pandas will change to not sort by default.\n",
      "\n",
      "To accept the future behavior, pass 'sort=False'.\n",
      "\n",
      "To retain the current behavior and silence the warning, pass 'sort=True'.\n",
      "\n",
      "  df = pd.concat(df_list).reset_index(drop=True)\n"
     ]
    }
   ],
   "source": [
    "dp = DataProcessor(data)\n",
    "alerts = dp.update_and_transform(data_type='alerts')\n",
    "daily = dp.update_and_transform(data_type='daily')\n",
    "hourly = dp.update_and_transform(data_type='hourly')\n",
    "alerts_regions_df = dp.alerts_regions_df(df=alerts)\n",
    "alerts_df = dp.alerts_df(df=alerts)\n",
    "hourly_info_df = dp.info_df(df=hourly)\n",
    "hourly_stats_df = dp.hourly_stats_df(df=hourly)\n",
    "daily_info_df = dp.info_df(df=daily)\n",
    "daily_stats_df = dp.daily_stats_df(df=daily)"
   ]
  },
  {
   "cell_type": "code",
   "execution_count": null,
   "metadata": {},
   "outputs": [],
   "source": [
    "daily_stats_df.time[0]"
   ]
  },
  {
   "cell_type": "code",
   "execution_count": 3,
   "metadata": {},
   "outputs": [],
   "source": [
    "import psycopg2"
   ]
  },
  {
   "cell_type": "code",
   "execution_count": 4,
   "metadata": {},
   "outputs": [],
   "source": [
    "conn = psycopg2.connect(dbname=database_name, user=user, host=host, password=password, port=port)"
   ]
  },
  {
   "cell_type": "code",
   "execution_count": null,
   "metadata": {},
   "outputs": [],
   "source": [
    "from sqlalchemy.types import TIMESTAMP"
   ]
  },
  {
   "cell_type": "code",
   "execution_count": 5,
   "metadata": {},
   "outputs": [],
   "source": [
    "daily_stats_df.to_sql('api_data_dailystats', engine, if_exists='append', index=False)"
   ]
  },
  {
   "cell_type": "code",
   "execution_count": null,
   "metadata": {
    "scrolled": true
   },
   "outputs": [],
   "source": [
    "daily_stats_df['temperatureHighTime'][0]"
   ]
  },
  {
   "cell_type": "code",
   "execution_count": null,
   "metadata": {},
   "outputs": [],
   "source": [
    "engine.dispose()"
   ]
  },
  {
   "cell_type": "code",
   "execution_count": null,
   "metadata": {},
   "outputs": [],
   "source": [
    "conn.close()"
   ]
  },
  {
   "cell_type": "code",
   "execution_count": null,
   "metadata": {},
   "outputs": [],
   "source": []
  }
 ],
 "metadata": {
  "kernelspec": {
   "display_name": "Python 3",
   "language": "python",
   "name": "python3"
  },
  "language_info": {
   "codemirror_mode": {
    "name": "ipython",
    "version": 3
   },
   "file_extension": ".py",
   "mimetype": "text/x-python",
   "name": "python",
   "nbconvert_exporter": "python",
   "pygments_lexer": "ipython3",
   "version": "3.7.3"
  }
 },
 "nbformat": 4,
 "nbformat_minor": 2
}
